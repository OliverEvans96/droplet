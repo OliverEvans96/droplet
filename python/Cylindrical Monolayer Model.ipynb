{
 "cells": [
  {
   "cell_type": "markdown",
   "metadata": {},
   "source": [
    "# Cylinder plots"
   ]
  },
  {
   "cell_type": "code",
   "execution_count": 1,
   "metadata": {
    "collapsed": false
   },
   "outputs": [],
   "source": [
    "# Imports\n",
    "from numpy import *\n",
    "from matplotlib.pyplot import *\n",
    "%matplotlib inline\n",
    "import matplotlib.patches as mpatches\n",
    "from IPython.display import Image\n",
    "from numpy.linalg import lstsq\n",
    "import pandas as pd"
   ]
  },
  {
   "cell_type": "markdown",
   "metadata": {},
   "source": [
    "Latex Macros\n",
    "$\\newcommand{\\AA}{\\unicode{xC5}}$"
   ]
  },
  {
   "cell_type": "code",
   "execution_count": 2,
   "metadata": {
    "collapsed": true
   },
   "outputs": [],
   "source": [
    "def combine_sims(data_list):\n",
    "    # Convert to 2d if not already\n",
    "    for ii,data in enumerate(data_list):\n",
    "        if data.ndim == 1:\n",
    "            data_list[ii] = data.reshape([len(data),1])\n",
    "    \n",
    "    # Determine required array size\n",
    "    data_shape = array([shape(data) for data in data_list])\n",
    "    longest = max(data_shape[0])\n",
    "    \n",
    "    # Create array\n",
    "    arr = empty([longest,sum(data_shape[:,1])])\n",
    "    # Initialize with nans\n",
    "    arr[:] = nan\n",
    "    \n",
    "    # Fill with data\n",
    "    current_column = 0\n",
    "    for ii,data in enumerate(data_list):\n",
    "        data_width = data_shape[ii,1]\n",
    "        arr[:len(data),current_column:current_column+data_width] = data\n",
    "        current_column += data_width\n",
    "    \n",
    "    # Return time and filled array\n",
    "    return arr"
   ]
  },
  {
   "cell_type": "code",
   "execution_count": 3,
   "metadata": {
    "collapsed": true
   },
   "outputs": [],
   "source": [
    "# Base radii\n",
    "base_radius = array([20,30,40,50,60,100])\n",
    "colors = ['r','b','g','y','m','c','orange','grey','brown','k']\n",
    "# Times at which droplets have ceased spreading\n",
    "endtimes = [1.5,12,12,12,12,12]"
   ]
  },
  {
   "cell_type": "code",
   "execution_count": 4,
   "metadata": {
    "collapsed": false
   },
   "outputs": [
    {
     "name": "stderr",
     "output_type": "stream",
     "text": [
      "/home/oge1/.local/miniconda3/lib/python3.5/site-packages/ipykernel/__main__.py:27: RuntimeWarning: invalid value encountered in less\n",
      "/home/oge1/.local/miniconda3/lib/python3.5/site-packages/ipykernel/__main__.py:28: RuntimeWarning: invalid value encountered in greater\n",
      "/home/oge1/.local/miniconda3/lib/python3.5/site-packages/ipykernel/__main__.py:29: RuntimeWarning: invalid value encountered in greater\n",
      "/home/oge1/.local/miniconda3/lib/python3.5/site-packages/ipykernel/__main__.py:30: RuntimeWarning: invalid value encountered in less_equal\n",
      "/home/oge1/.local/miniconda3/lib/python3.5/site-packages/ipykernel/__main__.py:37: RuntimeWarning: invalid value encountered in less\n",
      "/home/oge1/.local/miniconda3/lib/python3.5/site-packages/ipykernel/__main__.py:38: RuntimeWarning: invalid value encountered in greater\n",
      "/home/oge1/.local/miniconda3/lib/python3.5/site-packages/ipykernel/__main__.py:39: RuntimeWarning: invalid value encountered in greater\n",
      "/home/oge1/.local/miniconda3/lib/python3.5/site-packages/ipykernel/__main__.py:40: RuntimeWarning: invalid value encountered in less_equal\n"
     ]
    },
    {
     "ename": "ValueError",
     "evalue": "could not broadcast input array from shape (1509,1) into shape (1000,1)",
     "output_type": "error",
     "traceback": [
      "\u001b[0;31m---------------------------------------------------------------------------\u001b[0m",
      "\u001b[0;31mValueError\u001b[0m                                Traceback (most recent call last)",
      "\u001b[0;32m<ipython-input-4-e400e04b5949>\u001b[0m in \u001b[0;36m<module>\u001b[0;34m()\u001b[0m\n\u001b[1;32m     50\u001b[0m \u001b[0;34m\u001b[0m\u001b[0m\n\u001b[1;32m     51\u001b[0m \u001b[0;31m# Combine sims\u001b[0m\u001b[0;34m\u001b[0m\u001b[0;34m\u001b[0m\u001b[0m\n\u001b[0;32m---> 52\u001b[0;31m \u001b[0mmrad\u001b[0m \u001b[0;34m=\u001b[0m \u001b[0mcombine_sims\u001b[0m\u001b[0;34m(\u001b[0m\u001b[0;34m[\u001b[0m\u001b[0mold_mrad\u001b[0m\u001b[0;34m[\u001b[0m\u001b[0;34m:\u001b[0m\u001b[0;34m,\u001b[0m\u001b[0;36m1\u001b[0m\u001b[0;34m:\u001b[0m\u001b[0;34m-\u001b[0m\u001b[0;36m1\u001b[0m\u001b[0;34m]\u001b[0m\u001b[0;34m,\u001b[0m\u001b[0mcyl60_mrad\u001b[0m\u001b[0;34m[\u001b[0m\u001b[0;34m:\u001b[0m\u001b[0;34m,\u001b[0m\u001b[0;36m2\u001b[0m\u001b[0;34m]\u001b[0m\u001b[0;34m,\u001b[0m\u001b[0mcyl100_mrad\u001b[0m\u001b[0;34m[\u001b[0m\u001b[0;34m:\u001b[0m\u001b[0;34m,\u001b[0m\u001b[0;36m1\u001b[0m\u001b[0;34m]\u001b[0m\u001b[0;34m]\u001b[0m\u001b[0;34m)\u001b[0m\u001b[0;34m\u001b[0m\u001b[0m\n\u001b[0m\u001b[1;32m     53\u001b[0m \u001b[0mbrad\u001b[0m \u001b[0;34m=\u001b[0m \u001b[0mcombine_sims\u001b[0m\u001b[0;34m(\u001b[0m\u001b[0;34m[\u001b[0m\u001b[0mold_brad\u001b[0m\u001b[0;34m[\u001b[0m\u001b[0;34m:\u001b[0m\u001b[0;34m,\u001b[0m\u001b[0;36m1\u001b[0m\u001b[0;34m:\u001b[0m\u001b[0;34m-\u001b[0m\u001b[0;36m1\u001b[0m\u001b[0;34m]\u001b[0m\u001b[0;34m,\u001b[0m\u001b[0mcyl60_brad\u001b[0m\u001b[0;34m[\u001b[0m\u001b[0;34m:\u001b[0m\u001b[0;34m,\u001b[0m\u001b[0;36m2\u001b[0m\u001b[0;34m]\u001b[0m\u001b[0;34m,\u001b[0m\u001b[0mcyl100_brad\u001b[0m\u001b[0;34m[\u001b[0m\u001b[0;34m:\u001b[0m\u001b[0;34m,\u001b[0m\u001b[0;36m1\u001b[0m\u001b[0;34m]\u001b[0m\u001b[0;34m]\u001b[0m\u001b[0;34m)\u001b[0m\u001b[0;34m\u001b[0m\u001b[0m\n",
      "\u001b[0;32m<ipython-input-2-91a500a3e923>\u001b[0m in \u001b[0;36mcombine_sims\u001b[0;34m(data_list)\u001b[0m\n\u001b[1;32m     18\u001b[0m     \u001b[0;32mfor\u001b[0m \u001b[0mii\u001b[0m\u001b[0;34m,\u001b[0m\u001b[0mdata\u001b[0m \u001b[0;32min\u001b[0m \u001b[0menumerate\u001b[0m\u001b[0;34m(\u001b[0m\u001b[0mdata_list\u001b[0m\u001b[0;34m)\u001b[0m\u001b[0;34m:\u001b[0m\u001b[0;34m\u001b[0m\u001b[0m\n\u001b[1;32m     19\u001b[0m         \u001b[0mdata_width\u001b[0m \u001b[0;34m=\u001b[0m \u001b[0mdata_shape\u001b[0m\u001b[0;34m[\u001b[0m\u001b[0mii\u001b[0m\u001b[0;34m,\u001b[0m\u001b[0;36m1\u001b[0m\u001b[0;34m]\u001b[0m\u001b[0;34m\u001b[0m\u001b[0m\n\u001b[0;32m---> 20\u001b[0;31m         \u001b[0marr\u001b[0m\u001b[0;34m[\u001b[0m\u001b[0;34m:\u001b[0m\u001b[0mlen\u001b[0m\u001b[0;34m(\u001b[0m\u001b[0mdata\u001b[0m\u001b[0;34m)\u001b[0m\u001b[0;34m,\u001b[0m\u001b[0mcurrent_column\u001b[0m\u001b[0;34m:\u001b[0m\u001b[0mcurrent_column\u001b[0m\u001b[0;34m+\u001b[0m\u001b[0mdata_width\u001b[0m\u001b[0;34m]\u001b[0m \u001b[0;34m=\u001b[0m \u001b[0mdata\u001b[0m\u001b[0;34m\u001b[0m\u001b[0m\n\u001b[0m\u001b[1;32m     21\u001b[0m         \u001b[0mcurrent_column\u001b[0m \u001b[0;34m+=\u001b[0m \u001b[0mdata_width\u001b[0m\u001b[0;34m\u001b[0m\u001b[0m\n\u001b[1;32m     22\u001b[0m \u001b[0;34m\u001b[0m\u001b[0m\n",
      "\u001b[0;31mValueError\u001b[0m: could not broadcast input array from shape (1509,1) into shape (1000,1)"
     ]
    }
   ],
   "source": [
    "old_dir = \"$SCRATCH/droplet/results/Bob/Sub951By50/finalResults/avg/\"\n",
    "cyl100_dir = \"$SCRATCH/droplet/results/Bob/Sub951By100/finalResults/New/avg/\"\n",
    "cyl60_dir = \"$SCRATCH/droplet/results/Bob/Sub951By50/finalResults/avg/\"\n",
    "old_mrad = genfromtxt(old_dir+\"monoEdge.txt\")\n",
    "old_brad = genfromtxt(old_dir+\"bulkEdge.txt\")\n",
    "# Use Sub951By50_Cyl60A\n",
    "cyl60_mrad = genfromtxt(cyl60_dir+\"monoEdge.txt\")\n",
    "cyl60_brad = genfromtxt(cyl60_dir+\"bulkEdge.txt\")\n",
    "# Use Sub951By100_Cyl100A\n",
    "cyl100_mrad = genfromtxt(cyl100_dir+\"monoEdge.txt\")\n",
    "cyl100_brad = genfromtxt(cyl100_dir+\"bulkEdge.txt\")\n",
    "\n",
    "# Define time\n",
    "t_all = old_mrad[:,0]/1e6\n",
    "# Remove time from radius arrays\n",
    "old_mrad = old_mrad[:,1:]\n",
    "old_brad = old_brad[:,1:]\n",
    "\n",
    "# Crop old values\n",
    "#crop_old_mrad = logical_or.reduce([old_mrad<=0,old_mrad>350])\n",
    "#crop_old_brad = logical_or.reduce([old_brad<=0,old_brad>350])\n",
    "#old_mrad[crop_old_mrad] = nan\n",
    "#old_brad[crop_old_brad] = nan\n",
    "\n",
    "# Filter old values based on numerical derivative\n",
    "filter_cutoff = 10\n",
    "dec_diff_filter_mrad = vstack([zeros(shape(old_mrad[1])),diff(old_mrad,axis=0)]) < -filter_cutoff\n",
    "inc_diff_filter_mrad = vstack([diff(old_mrad,axis=0),zeros(shape(old_mrad[1]))]) > filter_cutoff\n",
    "up_lim_filter_mrad = old_mrad > 400\n",
    "lo_lim_filter_mrad = old_mrad <= 0\n",
    "whole_filter_mrad = logical_or.reduce([\n",
    "        dec_diff_filter_mrad,\n",
    "        inc_diff_filter_mrad,\n",
    "        up_lim_filter_mrad,\n",
    "        lo_lim_filter_mrad])\n",
    "\n",
    "dec_diff_filter_brad = vstack([zeros(shape(old_brad[1])),diff(old_brad,axis=0)]) < -filter_cutoff\n",
    "inc_diff_filter_brad = vstack([diff(old_brad,axis=0),zeros(shape(old_brad[1]))]) > filter_cutoff\n",
    "up_lim_filter_brad = old_brad > 400\n",
    "lo_lim_filter_brad = old_brad <= 0\n",
    "whole_filter_brad = logical_or.reduce([\n",
    "        dec_diff_filter_brad,\n",
    "        inc_diff_filter_brad,\n",
    "        up_lim_filter_brad,\n",
    "        lo_lim_filter_brad])\n",
    "\n",
    "# Apply filters\n",
    "old_mrad[whole_filter_mrad] = nan\n",
    "old_brad[whole_filter_brad] = nan\n",
    "\n",
    "# Combine sims\n",
    "mrad = combine_sims([old_mrad[:,1:-1],cyl60_mrad[:,2],cyl100_mrad[:,1]])\n",
    "brad = combine_sims([old_brad[:,1:-1],cyl60_brad[:,2],cyl100_brad[:,1]])"
   ]
  },
  {
   "cell_type": "code",
   "execution_count": null,
   "metadata": {
    "collapsed": true
   },
   "outputs": [],
   "source": [
    "# Linear least squares\n",
    "def lin_ls(xx,yy):\n",
    "    # Set up system\n",
    "    A = array([[sum(xx**2),sum(xx)],[sum(xx),len(xx)]])\n",
    "    b = array([sum(xx*yy),sum(yy)])\n",
    "    \n",
    "    # Solve system using numpy.linalg.lstsq\n",
    "    mm,bb = lstsq(A,b)[0]\n",
    "    \n",
    "    return mm,bb"
   ]
  },
  {
   "cell_type": "code",
   "execution_count": null,
   "metadata": {
    "collapsed": false
   },
   "outputs": [],
   "source": [
    "cyl50 = old_mrad[:,5]\n",
    "plot(t_all,cyl50)"
   ]
  },
  {
   "cell_type": "code",
   "execution_count": null,
   "metadata": {
    "collapsed": false
   },
   "outputs": [],
   "source": [
    "for i in range(0,shape(old_mrad)[1]):\n",
    "    plot(t_all,old_mrad[:,i])\n",
    "title('Old')\n",
    "xlim(8,9)"
   ]
  },
  {
   "cell_type": "code",
   "execution_count": null,
   "metadata": {
    "collapsed": false,
    "scrolled": true
   },
   "outputs": [],
   "source": [
    "for i in range(1,shape(cyl60_mrad)[1]):\n",
    "    plot(cyl60_mrad[:,0]/1e6,cyl60_mrad[:,i])\n",
    "title('Sub951By50')"
   ]
  },
  {
   "cell_type": "code",
   "execution_count": null,
   "metadata": {
    "collapsed": false,
    "scrolled": true
   },
   "outputs": [],
   "source": [
    "for i in range(1,shape(cyl100_mrad)[1]):\n",
    "    plot(cyl100_mrad[:,0]/1e6,cyl100_mrad[:,i])\n",
    "title('Sub951By100')"
   ]
  },
  {
   "cell_type": "code",
   "execution_count": null,
   "metadata": {
    "collapsed": false
   },
   "outputs": [],
   "source": [
    "# Create figure\n",
    "figure(figsize=[16,10])\n",
    "\n",
    "base_radius = [20,30,40,50,60,100]\n",
    "\n",
    "# Plot monolayer radius\n",
    "for ii in range(0,mrad.shape[1]):\n",
    "    lbl = '{}A'.format(base_radius[ii])\n",
    "    whichvals = t_all >= 0\n",
    "    tt = t_all[whichvals]\n",
    "    mr = mrad[:,ii][whichvals]\n",
    "    plot(tt,mr,label=lbl)\n",
    "title('Cylindrical Monolayer Radius')\n",
    "xlabel('Time (ns)')\n",
    "ylabel(r'Monolayer Radius ($\\AA$)')\n",
    "#ylim(0,400) \n",
    "#xlim(0,1)\n",
    "#ylim(0,110)\n",
    "legend(loc='best')"
   ]
  },
  {
   "cell_type": "code",
   "execution_count": null,
   "metadata": {
    "collapsed": false
   },
   "outputs": [],
   "source": [
    "# Create figure\n",
    "figure(figsize=[16,10])\n",
    "\n",
    "# Plot monolayer radius\n",
    "for ii in range(0,mrad.shape[1]):\n",
    "    lbl = '{}A'.format(base_radius[ii])\n",
    "    whichvals = logical_and.reduce([isfinite(mrad[:,0]),t_all > 0])\n",
    "    tt = t_all[whichvals]\n",
    "    mr = mrad[:,ii][whichvals]\n",
    "    plot(tt,mr**2,label=lbl)\n",
    "title('Squared Cylindrical Monolayer Radius')\n",
    "xlabel('Time (ns)')\n",
    "ylabel(r'Monolayer Radius Squared ($\\AA$)')\n",
    "#ylim(0,400) \n",
    "xlim(0,10)\n",
    "legend(loc='best')"
   ]
  },
  {
   "cell_type": "code",
   "execution_count": null,
   "metadata": {
    "collapsed": false
   },
   "outputs": [],
   "source": [
    "# Create figure\n",
    "figure(figsize=[16,10])\n",
    "\n",
    "# Plot monolayer radius\n",
    "for ii in range(0,mrad.shape[1]):\n",
    "    lbl = '{}A'.format(base_radius[ii])\n",
    "    whichvals = t_all > 0\n",
    "    tt = t_all[whichvals]\n",
    "    mr = mrad[:,ii][whichvals]\n",
    "    plot(log(tt),log(mr),\n",
    "        label=lbl,color=colors[ii])\n",
    "title('Double Log Cylindrical Monolayer Radius')\n",
    "xlabel('Log Time (ns)')\n",
    "ylabel(r'Log Monolayer Radius ($\\AA$)')\n",
    "#ylim(0,400) \n",
    "xlim(-2,log(12))\n",
    "legend(loc='best')"
   ]
  },
  {
   "cell_type": "code",
   "execution_count": null,
   "metadata": {
    "collapsed": false,
    "scrolled": false
   },
   "outputs": [],
   "source": [
    "# Create figure\n",
    "figure(figsize=[16,10])\n",
    "\n",
    "# Plot monolayer radius\n",
    "for ii in range(0,mrad.shape[1]):\n",
    "    lbl = '{}A'.format(base_radius[ii])\n",
    "    whichvals = logical_and.reduce([t_all<endtimes[ii],t_all > .1,isfinite(mrad[:,ii])])\n",
    "    tt = t_all[whichvals]\n",
    "    mr = mrad[:,ii][whichvals]\n",
    "    \n",
    "    # least sqares\n",
    "    mm,bb = lin_ls(log(tt),log(mr))\n",
    "    \n",
    "    # Plot data\n",
    "    plot(log(tt),log(mr),\n",
    "        label=lbl,color=colors[ii])\n",
    "    \n",
    "    # Plot fit\n",
    "    plot(log(tt),mm*log(tt)+bb,'--',label='fit_{}'.format(lbl),color=colors[ii])\n",
    "title('Double Log Cylindrical Monolayer Radius')\n",
    "xlabel('Log Time (log ns)')\n",
    "ylabel(r'Log Monolayer Radius (log $\\AA$)')\n",
    "#ylim(0,400) \n",
    "#xlim(0,10)\n",
    "legend(loc='best')"
   ]
  },
  {
   "cell_type": "code",
   "execution_count": null,
   "metadata": {
    "collapsed": false
   },
   "outputs": [],
   "source": [
    "# Create figure\n",
    "figure(figsize=[16,10])\n",
    "\n",
    "# Matrix of least squares coefficients\n",
    "ls_coefs = zeros([6,2])\n",
    "\n",
    "# Plot monolayer radius\n",
    "for ii in range(0,mrad.shape[1]):\n",
    "    lbl = '{}A'.format(base_radius[ii])\n",
    "    whichvals = logical_and.reduce([t_all<endtimes[ii],t_all > .5,isfinite(mrad[:,ii])])\n",
    "    tt = t_all[whichvals]\n",
    "    mr = mrad[:,ii][whichvals]\n",
    "    \n",
    "    # least sqares\n",
    "    mm,bb = lin_ls(log(tt),log(mr))\n",
    "    \n",
    "    # Save coefficients\n",
    "    ls_coefs[ii,:] = mm,bb\n",
    "    \n",
    "    # Plot data\n",
    "    plot(tt,mr,'o-',\n",
    "        label=lbl,color=colors[ii])\n",
    "    \n",
    "    # Plot fit\n",
    "    plot(tt,exp(bb)*tt**mm,'--',label='fit_{}'.format(lbl),color=colors[ii])\n",
    "title('Cylindrical Monolayer Radius')\n",
    "xlabel('Time (ns)')\n",
    "ylabel(r'Monolayer Radius ($\\AA$)')\n",
    "#ylim(0,400) \n",
    "#xlim(0,10)\n",
    "legend(loc='best')"
   ]
  },
  {
   "cell_type": "code",
   "execution_count": null,
   "metadata": {
    "collapsed": false
   },
   "outputs": [],
   "source": [
    "# Scaling coefficients (Ignore 20A)\n",
    "start = 1\n",
    "sc_m_m,sc_m_b = lin_ls(log(base_radius[start:]),log(ls_coefs[start:,0]))\n",
    "sc_b_m,sc_b_b = lin_ls(log(base_radius[start:]),log(ls_coefs[start:,1]))"
   ]
  },
  {
   "cell_type": "code",
   "execution_count": null,
   "metadata": {
    "collapsed": false
   },
   "outputs": [],
   "source": [
    "plot(base_radius,ls_coefs[:,1],'o-',label='b')\n",
    "plot(base_radius,ls_coefs[:,0],'o-',label='m')\n",
    "title('Plot of coefficients')\n",
    "legend()"
   ]
  },
  {
   "cell_type": "code",
   "execution_count": null,
   "metadata": {
    "collapsed": false
   },
   "outputs": [],
   "source": [
    "figure(figsize=[10,5])\n",
    "\n",
    "subplot(1,2,1)\n",
    "plot(log(base_radius),log(ls_coefs[:,1]),'o-',label='b')\n",
    "plot(log(base_radius),sc_b_m*log(base_radius)+sc_b_b,'or-',label='fit')\n",
    "title('Double log plot of coefficients: b')\n",
    "legend()\n",
    "\n",
    "subplot(1,2,2)\n",
    "plot(base_radius,ls_coefs[:,1],'o-',label='b')\n",
    "plot(base_radius,exp(sc_b_b)*base_radius**sc_b_m,'or-',label='fit')\n",
    "title('Plot of coefficients: b')\n",
    "legend()"
   ]
  },
  {
   "cell_type": "code",
   "execution_count": null,
   "metadata": {
    "collapsed": false
   },
   "outputs": [],
   "source": [
    "figure(figsize=[10,5])\n",
    "\n",
    "subplot(1,2,1)\n",
    "plot(log(base_radius),log(ls_coefs[:,0]),'o-',label='m')\n",
    "plot(log(base_radius),sc_m_m*log(base_radius)+sc_m_b,'or-',label='fit')\n",
    "title('Double log plot of coefficients: m')\n",
    "legend()\n",
    "\n",
    "subplot(1,2,2)\n",
    "plot(base_radius,ls_coefs[:,0],'o-',label='m')\n",
    "plot(base_radius,exp(sc_m_b)*base_radius**sc_m_m,'or-',label='fit')\n",
    "title('Plot of coefficients: m')\n",
    "legend()"
   ]
  },
  {
   "cell_type": "code",
   "execution_count": null,
   "metadata": {
    "collapsed": false
   },
   "outputs": [],
   "source": [
    "# Test model\n",
    "\n",
    "# Create figure\n",
    "figure(figsize=[16,10])\n",
    "\n",
    "# Plot monolayer radius\n",
    "for ii in range(0,mrad.shape[1]):\n",
    "    lbl = '{}A'.format(base_radius[ii])\n",
    "    whichvals = logical_and(t_all > 5e-1,isfinite(mrad[:,ii]))\n",
    "    tt = t_all[whichvals]\n",
    "    mr = mrad[:,ii][whichvals]\n",
    "    \n",
    "    # Scaling coefficients (non-log)\n",
    "    #mm = sc_m_m*R[i-1] + sc_m_b\n",
    "    #bb = sc_b_m*R[i-1] + sc_b_b\n",
    "    \n",
    "    # Scaling coefficients (log)\n",
    "    mm = exp(sc_m_b)*base_radius[ii]**sc_m_m\n",
    "    bb = exp(sc_b_b)*base_radius[ii]**sc_b_m\n",
    "    \n",
    "    # Model\n",
    "    yy = exp(bb)*tt**mm\n",
    "    \n",
    "    # Plot data\n",
    "    plot(tt,mr,\n",
    "        label=lbl,color=colors[ii])\n",
    "    \n",
    "    # Plot model\n",
    "    plot(tt,yy,'--',label='fit_{}'.format(lbl),color=colors[ii])\n",
    "    \n",
    "# Include 70A - 100A model\n",
    "for ii in range(7,10):\n",
    "    lbl = '{}A'.format(10*ii)\n",
    "    tt = t_all[t_all > 5e-1]\n",
    "    \n",
    "    # Scaling coefficients (non-log)\n",
    "    #mm = sc_m_m*R[i-1] + sc_m_b\n",
    "    #bb = sc_b_m*R[i-1] + sc_b_b\n",
    "    \n",
    "    # Base radius\n",
    "    RR = 10*(ii)\n",
    "    # Scaling coefficients (log)\n",
    "    mm = exp(sc_m_b)*RR**sc_m_m\n",
    "    bb = exp(sc_b_b)*RR**sc_b_m\n",
    "    \n",
    "    # Model\n",
    "    yy = exp(bb)*tt**mm\n",
    "    \n",
    "    # Plot model\n",
    "    plot(tt,yy,'--',label='fit_{}A'.format(RR),color=colors[ii])\n",
    "\n",
    "title('MODEL Spherical Monolayer Radius')\n",
    "xlabel('Time (ns)')\n",
    "ylabel(r'Monolayer Radius ($\\AA$)')\n",
    "#ylim(0,400) \n",
    "#xlim(0,10)\n",
    "legend(loc='best')"
   ]
  },
  {
   "cell_type": "code",
   "execution_count": null,
   "metadata": {
    "collapsed": false
   },
   "outputs": [],
   "source": [
    "plot(log(R),log(ls_coefs[:,0]),'o-',label='m')\n",
    "plot(log(R),log(ls_coefs[:,1]),'o-',label='b')\n",
    "title('Double Log plot of coefficients')"
   ]
  },
  {
   "cell_type": "code",
   "execution_count": null,
   "metadata": {
    "collapsed": false,
    "scrolled": false
   },
   "outputs": [],
   "source": [
    "## Monolayer - Bulk Radius difference ##\n",
    "\n",
    "# Create figure\n",
    "figure(figsize=[16,10])\n",
    "\n",
    "# Plot old Sub951By50 values\n",
    "for ii in range(0,brad.shape[1]):\n",
    "    whichvals = logical_and(t_all > 1e-1,isfinite(mrad[:,ii]))\n",
    "    lbl = '{}A'.format(base_radius[ii])\n",
    "    tt = t_all[whichvals]\n",
    "    mr = mrad[:,ii][whichvals]\n",
    "    plot(tt,mrad[:,ii][whichvals]-brad[:,ii][whichvals],'o-',\n",
    "        label=lbl)\n",
    "\n",
    "# Disclaimer\n",
    "disclaimer = '''\\\n",
    "***************************\n",
    "* Some extraneous values  *\n",
    "* have been intentionally *\n",
    "* removed from Old sims   *\n",
    "***************************'''\n",
    "#text(.2,60,disclaimer,ha='left',va='top',\n",
    "    #family='monospace')\n",
    "\n",
    "# Plot features\n",
    "title('Summary of Cyl. Mono - Bulk Radii (as of 12/31/2016)')\n",
    "xlabel('Time (ns)')\n",
    "ylabel(r'Difference in radius ($\\AA$)')\n",
    "plot([0,1],[5,5],'k-')\n",
    "#ylim(0,20) \n",
    "#xlim(0,.5)\n",
    "legend(loc='best')\n",
    "savefig('results/sph_diff.png')"
   ]
  },
  {
   "cell_type": "code",
   "execution_count": null,
   "metadata": {
    "collapsed": false
   },
   "outputs": [],
   "source": [
    "# Plot bulk and monolayer radius together for Sub951By50 Cyl50A\n",
    "\n",
    "figure(figsize=[16,10])\n",
    "\n",
    "# Cyl50A\n",
    "i = 5\n",
    "\n",
    "# bulk\n",
    "#b_whichvals = logical_and(old_brad[:,i]<300,old_brad[:,i]>10)\n",
    "b_lbl = 'Sub951By50 Cyl{}0A Bulk'.format(i)\n",
    "plot(old_brad[:,0][whichvals]/1e6,old_brad[:,i][whichvals],\n",
    "    label=b_lbl)\n",
    "\n",
    "# mono\n",
    "#m_whichvals = logical_and(old_mrad[:,i]<300,old_mrad[:,i]>10)\n",
    "m_lml = 'Sub951By50 Cyl{}0A Mono'.format(i)\n",
    "plot(old_mrad[:,0][whichvals]/1e6,old_mrad[:,i][whichvals],\n",
    "    label=m_lml)\n",
    "\n",
    "legend()\n",
    "ylim(0,250)\n",
    "xlim(0,10)"
   ]
  },
  {
   "cell_type": "code",
   "execution_count": null,
   "metadata": {
    "collapsed": true
   },
   "outputs": [],
   "source": []
  },
  {
   "cell_type": "code",
   "execution_count": null,
   "metadata": {
    "collapsed": true
   },
   "outputs": [],
   "source": []
  }
 ],
 "metadata": {
  "anaconda-cloud": {},
  "kernelspec": {
   "display_name": "Python [conda root]",
   "language": "python",
   "name": "conda-root-py"
  },
  "language_info": {
   "codemirror_mode": {
    "name": "ipython",
    "version": 3
   },
   "file_extension": ".py",
   "mimetype": "text/x-python",
   "name": "python",
   "nbconvert_exporter": "python",
   "pygments_lexer": "ipython3",
   "version": "3.5.2"
  }
 },
 "nbformat": 4,
 "nbformat_minor": 1
}
